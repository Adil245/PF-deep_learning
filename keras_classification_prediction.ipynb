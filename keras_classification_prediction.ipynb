{
  "nbformat": 4,
  "nbformat_minor": 0,
  "metadata": {
    "colab": {
      "provenance": []
    },
    "kernelspec": {
      "name": "python3",
      "display_name": "Python 3"
    },
    "language_info": {
      "name": "python"
    },
    "accelerator": "TPU",
    "gpuClass": "standard"
  },
  "cells": [
    {
      "cell_type": "code",
      "execution_count": 1,
      "metadata": {
        "id": "61U-2P3p6B_U"
      },
      "outputs": [],
      "source": [
        "import keras \n",
        "from keras.datasets import mnist \n",
        "from keras.models import Sequential \n",
        "from keras.layers import Dense, Dropout, Flatten \n",
        "from keras.layers import Conv2D, MaxPooling2D \n",
        "from keras import backend as K \n",
        "import numpy as np"
      ]
    },
    {
      "cell_type": "code",
      "source": [
        "(x_train, y_train), (x_test, y_test) = mnist.load_data()"
      ],
      "metadata": {
        "colab": {
          "base_uri": "https://localhost:8080/"
        },
        "id": "u9EAASID6DeI",
        "outputId": "85a0441c-522f-44cc-a3b6-b614bbe039c5"
      },
      "execution_count": 2,
      "outputs": [
        {
          "output_type": "stream",
          "name": "stdout",
          "text": [
            "Downloading data from https://storage.googleapis.com/tensorflow/tf-keras-datasets/mnist.npz\n",
            "11490434/11490434 [==============================] - 0s 0us/step\n"
          ]
        }
      ]
    },
    {
      "cell_type": "code",
      "source": [
        "img_rows, img_cols = 28, 28 \n",
        "\n",
        "#Channels First. Image data is represented in a three-dimensional array where the first channel represents the color channels, \n",
        "#e.g. [channels][rows][cols].\n",
        "if K.image_data_format() == 'channels_first': \n",
        "   x_train = x_train.reshape(x_train.shape[0], 1, img_rows, img_cols) \n",
        "   x_test = x_test.reshape(x_test.shape[0], 1, img_rows, img_cols) \n",
        "   input_shape = (1, img_rows, img_cols) \n",
        "else: \n",
        "   x_train = x_train.reshape(x_train.shape[0], img_rows, img_cols, 1) \n",
        "   x_test = x_test.reshape(x_test.shape[0], img_rows, img_cols, 1) \n",
        "   input_shape = (img_rows, img_cols, 1) "
      ],
      "metadata": {
        "id": "4Fdb4HU06NAn"
      },
      "execution_count": 3,
      "outputs": []
    },
    {
      "cell_type": "code",
      "source": [
        "x_train = x_train.astype('float32') \n",
        "x_test = x_test.astype('float32') \n",
        "\n",
        "#interval(0-1)\n",
        "x_train /= 255 \n",
        "x_test /= 255 \n",
        "\n",
        "#labels\n",
        "y_train = keras.utils.to_categorical(y_train, 10) \n",
        "y_test = keras.utils.to_categorical(y_test, 10)"
      ],
      "metadata": {
        "id": "c-FsLcPg6Vx4"
      },
      "execution_count": 4,
      "outputs": []
    },
    {
      "cell_type": "code",
      "source": [
        "print('Y_test Label:',y_test[0])\n",
        "print('Y_train Label:',y_train[0])\n",
        "print(x_train.shape)\n",
        "print(x_test.shape)"
      ],
      "metadata": {
        "colab": {
          "base_uri": "https://localhost:8080/"
        },
        "id": "k-6rlDW16jLw",
        "outputId": "e714a02d-357e-42cb-f203-7f0eb7fa6dff"
      },
      "execution_count": 8,
      "outputs": [
        {
          "output_type": "stream",
          "name": "stdout",
          "text": [
            "Y_test Label: [0. 0. 0. 0. 0. 0. 0. 1. 0. 0.]\n",
            "Y_train Label: [0. 0. 0. 0. 0. 1. 0. 0. 0. 0.]\n",
            "(60000, 28, 28, 1)\n",
            "(10000, 28, 28, 1)\n"
          ]
        }
      ]
    },
    {
      "cell_type": "code",
      "source": [
        "model = Sequential()\n"
      ],
      "metadata": {
        "id": "CrF51RfV6l_6"
      },
      "execution_count": 9,
      "outputs": []
    },
    {
      "cell_type": "code",
      "source": [
        "model.add(Conv2D(32, kernel_size = (3, 3),activation = 'relu', input_shape = input_shape)) \n",
        "model.add(Conv2D(64, (3, 3), activation = 'relu')) \n",
        "model.add(MaxPooling2D(pool_size = (2, 2))) \n",
        "model.add(Dropout(0.25))\n",
        "model.add(Flatten()) \n",
        "model.add(Dense(128, activation = 'relu')) \n",
        "model.add(Dropout(0.5)) \n",
        "model.add(Dense(10, activation = 'softmax'))"
      ],
      "metadata": {
        "id": "dqqeaVMS7M24"
      },
      "execution_count": 10,
      "outputs": []
    },
    {
      "cell_type": "code",
      "source": [
        "model.compile(loss = keras.losses.categorical_crossentropy, \n",
        "   optimizer = keras.optimizers.Adadelta(), metrics = ['accuracy'])"
      ],
      "metadata": {
        "id": "SwEAu0eP7Qd2"
      },
      "execution_count": 11,
      "outputs": []
    },
    {
      "cell_type": "code",
      "source": [
        "model.fit(\n",
        "   x_train, y_train, \n",
        "   batch_size = 128, \n",
        "   epochs = 5, \n",
        "   verbose = 1, \n",
        "   validation_data = (x_test, y_test)\n",
        ")"
      ],
      "metadata": {
        "colab": {
          "base_uri": "https://localhost:8080/"
        },
        "id": "KmGc--WF7UUq",
        "outputId": "9bf1eb0b-b980-4758-d63d-37635b140746"
      },
      "execution_count": 12,
      "outputs": [
        {
          "output_type": "stream",
          "name": "stdout",
          "text": [
            "Epoch 1/5\n",
            "469/469 [==============================] - 194s 409ms/step - loss: 2.2790 - accuracy: 0.1609 - val_loss: 2.2434 - val_accuracy: 0.2323\n",
            "Epoch 2/5\n",
            "469/469 [==============================] - 192s 409ms/step - loss: 2.2205 - accuracy: 0.2531 - val_loss: 2.1700 - val_accuracy: 0.4251\n",
            "Epoch 3/5\n",
            "469/469 [==============================] - 188s 401ms/step - loss: 2.1427 - accuracy: 0.3485 - val_loss: 2.0715 - val_accuracy: 0.5618\n",
            "Epoch 4/5\n",
            "469/469 [==============================] - 185s 395ms/step - loss: 2.0391 - accuracy: 0.4346 - val_loss: 1.9416 - val_accuracy: 0.6589\n",
            "Epoch 5/5\n",
            "469/469 [==============================] - 193s 412ms/step - loss: 1.9063 - accuracy: 0.5098 - val_loss: 1.7724 - val_accuracy: 0.7159\n"
          ]
        },
        {
          "output_type": "execute_result",
          "data": {
            "text/plain": [
              "<keras.callbacks.History at 0x7f9a24c67a00>"
            ]
          },
          "metadata": {},
          "execution_count": 12
        }
      ]
    },
    {
      "cell_type": "code",
      "source": [
        "score = model.evaluate(x_test, y_test, verbose = 0) \n",
        "\n",
        "print('Test loss:', score[0]) \n",
        "print('Test accuracy:', score[1])"
      ],
      "metadata": {
        "colab": {
          "base_uri": "https://localhost:8080/"
        },
        "id": "PC8d37Fr7X7c",
        "outputId": "aad0a359-621a-49b9-8578-069b99eaa5b5"
      },
      "execution_count": 14,
      "outputs": [
        {
          "output_type": "stream",
          "name": "stdout",
          "text": [
            "Test loss: 1.772438883781433\n",
            "Test accuracy: 0.7159000039100647\n"
          ]
        }
      ]
    },
    {
      "cell_type": "code",
      "source": [
        "pred = model.predict(x_test) \n",
        "pred = np.argmax(pred, axis = 1)[:5] \n",
        "label = np.argmax(y_test,axis = 1)[:5] \n",
        "print('\\nPrediction\\n')\n",
        "print(pred) \n",
        "print(label)"
      ],
      "metadata": {
        "colab": {
          "base_uri": "https://localhost:8080/"
        },
        "id": "VWDxSHCa-sUj",
        "outputId": "810f17c3-2af1-4a32-a8fb-ab8d039c954d"
      },
      "execution_count": 16,
      "outputs": [
        {
          "output_type": "stream",
          "name": "stdout",
          "text": [
            "313/313 [==============================] - 8s 25ms/step\n",
            "\n",
            "Prediction\n",
            "\n",
            "[7 2 1 0 4]\n",
            "[7 2 1 0 4]\n"
          ]
        }
      ]
    },
    {
      "cell_type": "code",
      "source": [],
      "metadata": {
        "id": "mFAWg5ZZ_d1E"
      },
      "execution_count": null,
      "outputs": []
    }
  ]
}